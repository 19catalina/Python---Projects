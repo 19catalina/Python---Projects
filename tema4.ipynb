{
 "cells": [
  {
   "cell_type": "code",
   "execution_count": 210,
   "metadata": {},
   "outputs": [
    {
     "name": "stdout",
     "output_type": "stream",
     "text": [
      "Numărul de respondenți care au completat sondajul este: 65437\n"
     ]
    }
   ],
   "source": [
    "import pandas as pd\n",
    "data = pd.read_csv('survey_results_public.csv')\n",
    "#data.head()\n",
    "num_respondenți = data.shape[0]\n",
    "print(f\"Numărul de respondenți care au completat sondajul este: {num_respondenți}\")\n",
    "\n"
   ]
  },
  {
   "cell_type": "code",
   "execution_count": 211,
   "metadata": {},
   "outputs": [
    {
     "name": "stdout",
     "output_type": "stream",
     "text": [
      "Câți respondenți au răspuns la toate întrebările?: 0\n"
     ]
    }
   ],
   "source": [
    "\n",
    "\n",
    "\n",
    " # Exemplu de schema (definire simplă)\n",
    "# schema = pd.DataFrame({\n",
    "#     'qname': ['q1', 'q2', 'q3', 'q4']\n",
    "# })\n",
    "\n",
    "# Exemplu de DataFrame cu datele respondenților\n",
    "# data = {\n",
    "#     'q1': [1, 2, None, 4],\n",
    "#     'q2': [None, 2, 3, 4],\n",
    "#     'q3': [1, None, 3, 4],\n",
    "#     'q4': [1, 2, 3, None]\n",
    "# }\n",
    "# df = pd.DataFrame(data)\n",
    "\n",
    "# Cod pentru calculul respondenților care au răspuns la toate întrebările\n",
    "questions = set(schema.qname.unique()) & set(df.columns)\n",
    "nr_resp_cmpl = df.dropna(subset=questions).shape[0]\n",
    "print(f\"Câți respondenți au răspuns la toate întrebările?: {nr_resp_cmpl}\")\n",
    "\n",
    "\n",
    "\n"
   ]
  },
  {
   "cell_type": "code",
   "execution_count": 177,
   "metadata": {},
   "outputs": [
    {
     "name": "stdout",
     "output_type": "stream",
     "text": [
      "Media experienței: 11%\n",
      "Mediana experienței: 9%\n",
      "Moda experienței: 3%\n"
     ]
    }
   ],
   "source": [
    "# Media, mediana și moda pentru WorkExp, (Experiența de muncă)\n",
    "media_experiență = data['WorkExp'].mean()\n",
    "mediana_experiență = data['WorkExp'].median()\n",
    "moda_experiență = data['WorkExp'].mode()[0]\n",
    "\n",
    "print(f\"Media experienței: {media_experiență:.0f}%\")\n",
    "print(f\"Mediana experienței: {mediana_experiență:.0f}%\")\n",
    "print(f\"Moda experienței: {moda_experiență:.0f}%\")\n"
   ]
  },
  {
   "cell_type": "code",
   "execution_count": 114,
   "metadata": {},
   "outputs": [],
   "source": [
    "#list(filter(lambda job: 'Remotework' in job['remote_field_name'] or 'Remote' in job['remote_field_name'], data))\n",
    "#data = [\n",
    "#     {'remote_field_name': 'Remotework'},\n",
    "#     {'remote_field_name': 'Remote'},\n",
    "#     {'remote_field_name': 'Onsite'}\n",
    "# ]\n",
    "\n",
    "# filtered_list = list(filter(lambda job: 'Remotework' in job['remote_field_name'] or 'Remote' in job['remote_field_name'], data))\n",
    "\n",
    "# print(filtered_list)"
   ]
  },
  {
   "cell_type": "code",
   "execution_count": 129,
   "metadata": {},
   "outputs": [
    {
     "name": "stdout",
     "output_type": "stream",
     "text": [
      "RemoteWork\n",
      "Hybrid (some remote, some in-person)    23015\n",
      "Remote                                  20831\n",
      "In-person                               10960\n",
      "Name: count, dtype: int64\n"
     ]
    }
   ],
   "source": [
    "# Numărul de respondenți care lucrează de la distanță\n",
    "lucrează_la_distanță = data[data['RemoteWork'] == 'Yes'].shape[0]\n",
    "#print(f\"Numărul de respondenți care lucrează de la distanță este: {lucrează_la_distanță}\")\n",
    "print(data['RemoteWork'].value_counts())\n"
   ]
  },
  {
   "cell_type": "code",
   "execution_count": 130,
   "metadata": {},
   "outputs": [
    {
     "name": "stdout",
     "output_type": "stream",
     "text": [
      "Procentul de respondenți care programează în Python este: 47%\n"
     ]
    }
   ],
   "source": [
    "# Procentul de respondenți care folosesc Python\n",
    "programează_python = data['LanguageHaveWorkedWith'].str.contains('Python', na=False).mean() * 100\n",
    "print(f\"Procentul de respondenți care programează în Python este: {programează_python:.0f}%\")\n"
   ]
  },
  {
   "cell_type": "code",
   "execution_count": 169,
   "metadata": {},
   "outputs": [
    {
     "name": "stdout",
     "output_type": "stream",
     "text": [
      "Câți respondenți au învățat să programeze prin cursuri online? 3\n"
     ]
    }
   ],
   "source": [
    "import pandas as pd\n",
    "\n",
    "# Exemplu de date\n",
    "data = {\n",
    "    'LearnCode': ['online courses, books', 'books', 'online courses', None, 'school, online courses'],\n",
    "}\n",
    "df = pd.DataFrame(data)\n",
    "\n",
    "# Adăugăm o coloană pentru a identifica respondenții care au învățat cu cursuri online\n",
    "df['learned_with_online_courses'] = df.LearnCode.str.contains('online courses', case=False, na=False)\n",
    "\n",
    "# Calculăm numărul total de astfel de respondenți\n",
    "resp_online_courses = df.learned_with_online_courses.sum()\n",
    "print(f\"Câți respondenți au învățat să programeze prin cursuri online? {resp_online_courses}\")\n",
    "\n",
    "\n",
    "\n"
   ]
  },
  {
   "cell_type": "code",
   "execution_count": 133,
   "metadata": {},
   "outputs": [
    {
     "name": "stdout",
     "output_type": "stream",
     "text": [
      "             mean    median\n",
      "Country                    \n",
      "Germany   75000.0   75000.0\n",
      "USA      120000.0  120000.0\n"
     ]
    }
   ],
   "source": [
    "\n",
    "\n",
    "# Exemplu de date\n",
    "data = {\n",
    "    \"LanguagesWorkedWith\": [\"Python; JavaScript\", \"Java; C++\", \"Python\", None, \"C#; JavaScript\"],\n",
    "    \"Country\": [\"USA\", \"India\", \"Germany\", \"France\", \"USA\"],\n",
    "    \"ConvertedCompYearly\": [120000, 60000, 75000, None, 110000]\n",
    "}\n",
    "\n",
    "df = pd.DataFrame(data)\n",
    "\n",
    "# Filtrăm respondenții care au lucrat cu Python\n",
    "python_progr = df[df[\"LanguagesWorkedWith\"].str.contains(\"Python\", case=False, na=False)]\n",
    "\n",
    "# Calculăm media și mediana remunerației, grupate pe țară\n",
    "py_salary_stats = python_progr.groupby(\"Country\")[\"ConvertedCompYearly\"].agg([\"mean\", \"median\"])\n",
    "print(py_salary_stats)\n"
   ]
  },
  {
   "cell_type": "code",
   "execution_count": null,
   "metadata": {},
   "outputs": [
    {
     "name": "stdout",
     "output_type": "stream",
     "text": [
      "                                          EdLevel  ConvertedCompYearly\n",
      "0    Bachelor’s degree (B.A., B.S., B.Eng., etc.)           16256603.0\n",
      "1  Professional degree (JD, MD, Ph.D, Ed.D, etc.)           13818022.0\n",
      "2  Professional degree (JD, MD, Ph.D, Ed.D, etc.)            9000000.0\n",
      "3    Bachelor’s degree (B.A., B.S., B.Eng., etc.)            6340564.0\n",
      "4  Professional degree (JD, MD, Ph.D, Ed.D, etc.)            4936778.0\n"
     ]
    }
   ],
   "source": [
    "# Nivelul de educație pentru cei 5 respondenți cu cea mai mare compensație\n",
    "cei_5_cu_cea_mai_mare_compensatie = data.nlargest(5, 'ConvertedCompYearly')[['EdLevel', 'ConvertedCompYearly']]\n",
    "\n",
    "\n",
    "cei_5_cu_cea_mai_mare_compensatie = cei_5_cu_cea_mai_mare_compensatie.reset_index(drop=True)\n",
    "\n",
    "print(cei_5_cu_cea_mai_mare_compensatie)\n"
   ]
  },
  {
   "cell_type": "code",
   "execution_count": 200,
   "metadata": {},
   "outputs": [
    {
     "name": "stdout",
     "output_type": "stream",
     "text": [
      "     Age  ResponseId  worked_with_python  work_with_python_share\n",
      "0  18-24           3                   2                    0.67\n",
      "1  25-34           2                   2                    1.00\n",
      "2  35-44           1                   0                    0.00\n"
     ]
    }
   ],
   "source": [
    "# bonus 1 \n",
    "\n",
    "\n",
    "# Exemplu de date\n",
    "data = {\n",
    "    \"ResponseId\": [1, 2, 3, 4, 5, 6],\n",
    "    \"Age\": [\"18-24\", \"18-24\", \"25-34\", \"35-44\", \"18-24\", \"25-34\"],\n",
    "    \"LanguagesWorkedWith\": [\"Python; Java\", \"JavaScript\", \"Python; C++\", \"C#\", \"Python; C#\", \"Python\"]\n",
    "}\n",
    "\n",
    "# df = pd.DataFrame(data)\n",
    "\n",
    "# Adăugăm o coloană pentru a identifica respondenții care au lucrat cu Python\n",
    "df[\"worked_with_python\"] = df[\"LanguagesWorkedWith\"].str.contains(\"Python\", case=False, na=False).astype(int)\n",
    "\n",
    "# Grupăm după vârstă și calculăm numărul total de respondenți și cei care lucrează cu Python\n",
    "py_progers_share_by_age = df.groupby(\"Age\", as_index=False).agg({\n",
    "    \"ResponseId\": \"count\", \n",
    "    \"worked_with_python\": \"sum\"\n",
    "})\n",
    "\n",
    "# Calculăm procentul celor care lucrează cu Python\n",
    "py_progers_share_by_age[\"work_with_python_share\"] = round(\n",
    "    py_progers_share_by_age[\"worked_with_python\"] / py_progers_share_by_age[\"ResponseId\"], 2\n",
    ")\n",
    "\n",
    "print(py_progers_share_by_age)\n"
   ]
  },
  {
   "cell_type": "code",
   "execution_count": 194,
   "metadata": {},
   "outputs": [
    {
     "data": {
      "text/html": [
       "<div>\n",
       "<style scoped>\n",
       "    .dataframe tbody tr th:only-of-type {\n",
       "        vertical-align: middle;\n",
       "    }\n",
       "\n",
       "    .dataframe tbody tr th {\n",
       "        vertical-align: top;\n",
       "    }\n",
       "\n",
       "    .dataframe thead th {\n",
       "        text-align: right;\n",
       "    }\n",
       "</style>\n",
       "<table border=\"1\" class=\"dataframe\">\n",
       "  <thead>\n",
       "    <tr style=\"text-align: right;\">\n",
       "      <th></th>\n",
       "      <th>Industry</th>\n",
       "      <th>count</th>\n",
       "    </tr>\n",
       "  </thead>\n",
       "  <tbody>\n",
       "    <tr>\n",
       "      <th>0</th>\n",
       "      <td>Software Development</td>\n",
       "      <td>768</td>\n",
       "    </tr>\n",
       "    <tr>\n",
       "      <th>1</th>\n",
       "      <td>Other:</td>\n",
       "      <td>239</td>\n",
       "    </tr>\n",
       "    <tr>\n",
       "      <th>2</th>\n",
       "      <td>Healthcare</td>\n",
       "      <td>156</td>\n",
       "    </tr>\n",
       "    <tr>\n",
       "      <th>3</th>\n",
       "      <td>Fintech</td>\n",
       "      <td>156</td>\n",
       "    </tr>\n",
       "    <tr>\n",
       "      <th>4</th>\n",
       "      <td>Internet, Telecomm or Information Services</td>\n",
       "      <td>145</td>\n",
       "    </tr>\n",
       "    <tr>\n",
       "      <th>5</th>\n",
       "      <td>Retail and Consumer Services</td>\n",
       "      <td>106</td>\n",
       "    </tr>\n",
       "    <tr>\n",
       "      <th>6</th>\n",
       "      <td>Media &amp; Advertising Services</td>\n",
       "      <td>103</td>\n",
       "    </tr>\n",
       "    <tr>\n",
       "      <th>7</th>\n",
       "      <td>Banking/Financial Services</td>\n",
       "      <td>69</td>\n",
       "    </tr>\n",
       "    <tr>\n",
       "      <th>8</th>\n",
       "      <td>Government</td>\n",
       "      <td>69</td>\n",
       "    </tr>\n",
       "    <tr>\n",
       "      <th>9</th>\n",
       "      <td>Computer Systems Design and Services</td>\n",
       "      <td>69</td>\n",
       "    </tr>\n",
       "    <tr>\n",
       "      <th>10</th>\n",
       "      <td>Transportation, or Supply Chain</td>\n",
       "      <td>67</td>\n",
       "    </tr>\n",
       "    <tr>\n",
       "      <th>11</th>\n",
       "      <td>Insurance</td>\n",
       "      <td>50</td>\n",
       "    </tr>\n",
       "    <tr>\n",
       "      <th>12</th>\n",
       "      <td>Manufacturing</td>\n",
       "      <td>48</td>\n",
       "    </tr>\n",
       "    <tr>\n",
       "      <th>13</th>\n",
       "      <td>Higher Education</td>\n",
       "      <td>42</td>\n",
       "    </tr>\n",
       "    <tr>\n",
       "      <th>14</th>\n",
       "      <td>Energy</td>\n",
       "      <td>36</td>\n",
       "    </tr>\n",
       "  </tbody>\n",
       "</table>\n",
       "</div>"
      ],
      "text/plain": [
       "                                      Industry  count\n",
       "0                         Software Development    768\n",
       "1                                       Other:    239\n",
       "2                                   Healthcare    156\n",
       "3                                      Fintech    156\n",
       "4   Internet, Telecomm or Information Services    145\n",
       "5                 Retail and Consumer Services    106\n",
       "6                 Media & Advertising Services    103\n",
       "7                   Banking/Financial Services     69\n",
       "8                                   Government     69\n",
       "9         Computer Systems Design and Services     69\n",
       "10             Transportation, or Supply Chain     67\n",
       "11                                   Insurance     50\n",
       "12                               Manufacturing     48\n",
       "13                            Higher Education     42\n",
       "14                                      Energy     36"
      ]
     },
     "execution_count": 194,
     "metadata": {},
     "output_type": "execute_result"
    }
   ],
   "source": [
    "# Bonus 2 \n",
    "# Filtrăm respondenții din 75-a percentilă a remunerației\n",
    "\n",
    "df = pd.DataFrame(data)\n",
    "df[(df.ConvertedCompYearly > df.ConvertedCompYearly.quantile(0.75)) & (df.RemoteWork == 'Remote')].Industry.value_counts().reset_index()\n",
    "\n",
    "\n"
   ]
  }
 ],
 "metadata": {
  "kernelspec": {
   "display_name": "PYTHON_DATA_PROJECT",
   "language": "python",
   "name": "python3"
  },
  "language_info": {
   "codemirror_mode": {
    "name": "ipython",
    "version": 3
   },
   "file_extension": ".py",
   "mimetype": "text/x-python",
   "name": "python",
   "nbconvert_exporter": "python",
   "pygments_lexer": "ipython3",
   "version": "3.12.7"
  }
 },
 "nbformat": 4,
 "nbformat_minor": 2
}
