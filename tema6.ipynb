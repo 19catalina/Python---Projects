{
 "cells": [
  {
   "cell_type": "code",
   "execution_count": 21,
   "metadata": {},
   "outputs": [],
   "source": [
    "import pandas as pd\n",
    "import matplotlib.pyplot as plt\n",
    "import seaborn as sns\n",
    "\n"
   ]
  },
  {
   "cell_type": "code",
   "execution_count": null,
   "metadata": {},
   "outputs": [
    {
     "name": "stdout",
     "output_type": "stream",
     "text": [
      "            Applied at   Amount  Age  Gender                      Industry  \\\n",
      "0  11.30.2022 10:26:37  12000.0   29    Male                    Blockchain   \n",
      "1  11.30.2022 10:26:39      NaN   36    Male  Public services / Government   \n",
      "2  11.30.2022 10:26:58   7500.0   34    Male          Adtech / Advertising   \n",
      "3  11.30.2022 10:27:31   1500.0   23  Female                       Telecom   \n",
      "4  11.30.2022 10:27:34   8400.0   33  Female                    Automotive   \n",
      "\n",
      "  Marital status  External Rating  \\\n",
      "0          Other              8.0   \n",
      "1         Single              3.0   \n",
      "2         Single              4.0   \n",
      "3         Single              0.0   \n",
      "4         Single              6.0   \n",
      "\n",
      "                                     Education level         Location  \\\n",
      "0  Higher Degree (bachelor's, specialist's, maste...    Spain, Madrid   \n",
      "1  Higher Degree (bachelor's, specialist's, maste...              NaN   \n",
      "2  Higher Degree (bachelor's, specialist's, maste...   Poland, Warsaw   \n",
      "3  Higher Degree (bachelor's, specialist's, maste...  Germany, Berlin   \n",
      "4  Higher Degree (bachelor's, specialist's, maste...  Bulgaria, Sofia   \n",
      "\n",
      "                       applicant_id  \n",
      "0  99e7b0dc6cc05dd334d8f38dc26ce9b3  \n",
      "1  63dfcf8e6904186650d6814279fbe42f  \n",
      "2  10dbafaeb46c09e96b6987c03bbb3498  \n",
      "3  5847ac62cc9eac5e323c2517dcc91ad1  \n",
      "4  5d21f3795b50de8e8f8f8d5f48b754f3  \n",
      "                       Industry  Score\n",
      "0                    Blockchain      0\n",
      "1  Public services / Government     20\n",
      "2          Adtech / Advertising     10\n",
      "3                       Telecom     15\n",
      "4                    Automotive     15\n"
     ]
    }
   ],
   "source": [
    "app = pd.read_csv('applications.csv')\n",
    "ind = pd.read_csv('industries.csv')\n",
    "print(app.head())\n",
    "print(ind.head())"
   ]
  },
  {
   "cell_type": "code",
   "execution_count": 23,
   "metadata": {},
   "outputs": [],
   "source": [
    "#1. Elimina duplicatele din coloana applicant_id \n",
    "app = app.drop_duplicates(subset='applicant_id')\n",
    "# app"
   ]
  },
  {
   "cell_type": "code",
   "execution_count": 24,
   "metadata": {},
   "outputs": [],
   "source": [
    "#1: In campul External Rating completeaza valorile lipsa cu zero\n",
    "app['External Rating'] = app['External Rating'].fillna(0)\n",
    "# app"
   ]
  },
  {
   "cell_type": "code",
   "execution_count": 25,
   "metadata": {},
   "outputs": [],
   "source": [
    "#1: In campul Education Level completeaza valorile lipsa cu 'Average'\n",
    "app['Education level'] = app['Education level'].fillna('Average')\n",
    "# app"
   ]
  },
  {
   "cell_type": "code",
   "execution_count": 26,
   "metadata": {},
   "outputs": [
    {
     "name": "stdout",
     "output_type": "stream",
     "text": [
      "                       Industry  Industry Score\n",
      "0                    Blockchain               0\n",
      "1  Public services / Government              20\n",
      "2          Adtech / Advertising              10\n",
      "3                       Telecom              15\n",
      "4                    Automotive              15\n",
      "            Applied at   Amount  Age  Gender                      Industry  \\\n",
      "0  11.30.2022 10:26:37  12000.0   29    Male                    Blockchain   \n",
      "1  11.30.2022 10:26:39      NaN   36    Male  Public services / Government   \n",
      "2  11.30.2022 10:26:58   7500.0   34    Male          Adtech / Advertising   \n",
      "3  11.30.2022 10:27:31   1500.0   23  Female                       Telecom   \n",
      "4  11.30.2022 10:27:34   8400.0   33  Female                    Automotive   \n",
      "\n",
      "  Marital status  External Rating  \\\n",
      "0          Other              8.0   \n",
      "1         Single              3.0   \n",
      "2         Single              4.0   \n",
      "3         Single              0.0   \n",
      "4         Single              6.0   \n",
      "\n",
      "                                     Education level         Location  \\\n",
      "0  Higher Degree (bachelor's, specialist's, maste...    Spain, Madrid   \n",
      "1  Higher Degree (bachelor's, specialist's, maste...              NaN   \n",
      "2  Higher Degree (bachelor's, specialist's, maste...   Poland, Warsaw   \n",
      "3  Higher Degree (bachelor's, specialist's, maste...  Germany, Berlin   \n",
      "4  Higher Degree (bachelor's, specialist's, maste...  Bulgaria, Sofia   \n",
      "\n",
      "                       applicant_id  Industry Score  \n",
      "0  99e7b0dc6cc05dd334d8f38dc26ce9b3               0  \n",
      "1  63dfcf8e6904186650d6814279fbe42f              20  \n",
      "2  10dbafaeb46c09e96b6987c03bbb3498              10  \n",
      "3  5847ac62cc9eac5e323c2517dcc91ad1              15  \n",
      "4  5d21f3795b50de8e8f8f8d5f48b754f3              15  \n"
     ]
    }
   ],
   "source": [
    "#2: Adaugă datele din fișierul industries.csv în acest DataFrame, respectiv, evaluările industriilor\n",
    "ind = ind.rename(columns={'Score' : 'Industry Score'})\n",
    "print(ind.head())\n",
    "df = pd.merge(app, ind)\n",
    "print(df.head())\n"
   ]
  },
  {
   "cell_type": "code",
   "execution_count": 36,
   "metadata": {},
   "outputs": [
    {
     "data": {
      "text/html": [
       "<div>\n",
       "<style scoped>\n",
       "    .dataframe tbody tr th:only-of-type {\n",
       "        vertical-align: middle;\n",
       "    }\n",
       "\n",
       "    .dataframe tbody tr th {\n",
       "        vertical-align: top;\n",
       "    }\n",
       "\n",
       "    .dataframe thead th {\n",
       "        text-align: right;\n",
       "    }\n",
       "</style>\n",
       "<table border=\"1\" class=\"dataframe\">\n",
       "  <thead>\n",
       "    <tr style=\"text-align: right;\">\n",
       "      <th></th>\n",
       "      <th>Applied at</th>\n",
       "      <th>Amount</th>\n",
       "      <th>Age</th>\n",
       "      <th>Gender</th>\n",
       "      <th>Industry</th>\n",
       "      <th>Marital status</th>\n",
       "      <th>External Rating</th>\n",
       "      <th>Education level</th>\n",
       "      <th>Location</th>\n",
       "      <th>applicant_id</th>\n",
       "      <th>Industry Score</th>\n",
       "      <th>Applied on day</th>\n",
       "      <th>Final Score</th>\n",
       "    </tr>\n",
       "  </thead>\n",
       "  <tbody>\n",
       "    <tr>\n",
       "      <th>0</th>\n",
       "      <td>2022-11-30 10:26:37</td>\n",
       "      <td>12000.0</td>\n",
       "      <td>29</td>\n",
       "      <td>Male</td>\n",
       "      <td>Blockchain</td>\n",
       "      <td>Other</td>\n",
       "      <td>8.0</td>\n",
       "      <td>Higher Degree (bachelor's, specialist's, maste...</td>\n",
       "      <td>Spain, Madrid</td>\n",
       "      <td>99e7b0dc6cc05dd334d8f38dc26ce9b3</td>\n",
       "      <td>0</td>\n",
       "      <td>Wednesday</td>\n",
       "      <td>30</td>\n",
       "    </tr>\n",
       "    <tr>\n",
       "      <th>2</th>\n",
       "      <td>2022-11-30 10:26:58</td>\n",
       "      <td>7500.0</td>\n",
       "      <td>34</td>\n",
       "      <td>Male</td>\n",
       "      <td>Adtech / Advertising</td>\n",
       "      <td>Single</td>\n",
       "      <td>4.0</td>\n",
       "      <td>Higher Degree (bachelor's, specialist's, maste...</td>\n",
       "      <td>Poland, Warsaw</td>\n",
       "      <td>10dbafaeb46c09e96b6987c03bbb3498</td>\n",
       "      <td>10</td>\n",
       "      <td>Wednesday</td>\n",
       "      <td>20</td>\n",
       "    </tr>\n",
       "    <tr>\n",
       "      <th>4</th>\n",
       "      <td>2022-11-30 10:27:34</td>\n",
       "      <td>8400.0</td>\n",
       "      <td>33</td>\n",
       "      <td>Female</td>\n",
       "      <td>Automotive</td>\n",
       "      <td>Single</td>\n",
       "      <td>6.0</td>\n",
       "      <td>Higher Degree (bachelor's, specialist's, maste...</td>\n",
       "      <td>Bulgaria, Sofia</td>\n",
       "      <td>5d21f3795b50de8e8f8f8d5f48b754f3</td>\n",
       "      <td>15</td>\n",
       "      <td>Wednesday</td>\n",
       "      <td>25</td>\n",
       "    </tr>\n",
       "    <tr>\n",
       "      <th>5</th>\n",
       "      <td>2022-11-30 10:27:38</td>\n",
       "      <td>16500.0</td>\n",
       "      <td>31</td>\n",
       "      <td>Male</td>\n",
       "      <td>E-commerce</td>\n",
       "      <td>Single</td>\n",
       "      <td>8.0</td>\n",
       "      <td>Higher Degree (bachelor's, specialist's, maste...</td>\n",
       "      <td>Spain, Madrid</td>\n",
       "      <td>f720bf9c5c4c3e10a8568c1699847696</td>\n",
       "      <td>15</td>\n",
       "      <td>Wednesday</td>\n",
       "      <td>45</td>\n",
       "    </tr>\n",
       "    <tr>\n",
       "      <th>6</th>\n",
       "      <td>2022-11-30 10:27:42</td>\n",
       "      <td>4200.0</td>\n",
       "      <td>30</td>\n",
       "      <td>Male</td>\n",
       "      <td>Media</td>\n",
       "      <td>Married</td>\n",
       "      <td>1.0</td>\n",
       "      <td>Higher Degree (bachelor's, specialist's, maste...</td>\n",
       "      <td>Lithuania, Vilnius</td>\n",
       "      <td>0aaf59fb3ef90f50ccd4800312e5c271</td>\n",
       "      <td>5</td>\n",
       "      <td>Wednesday</td>\n",
       "      <td>15</td>\n",
       "    </tr>\n",
       "  </tbody>\n",
       "</table>\n",
       "</div>"
      ],
      "text/plain": [
       "           Applied at   Amount  Age  Gender              Industry  \\\n",
       "0 2022-11-30 10:26:37  12000.0   29    Male            Blockchain   \n",
       "2 2022-11-30 10:26:58   7500.0   34    Male  Adtech / Advertising   \n",
       "4 2022-11-30 10:27:34   8400.0   33  Female            Automotive   \n",
       "5 2022-11-30 10:27:38  16500.0   31    Male            E-commerce   \n",
       "6 2022-11-30 10:27:42   4200.0   30    Male                 Media   \n",
       "\n",
       "  Marital status  External Rating  \\\n",
       "0          Other              8.0   \n",
       "2         Single              4.0   \n",
       "4         Single              6.0   \n",
       "5         Single              8.0   \n",
       "6        Married              1.0   \n",
       "\n",
       "                                     Education level            Location  \\\n",
       "0  Higher Degree (bachelor's, specialist's, maste...       Spain, Madrid   \n",
       "2  Higher Degree (bachelor's, specialist's, maste...      Poland, Warsaw   \n",
       "4  Higher Degree (bachelor's, specialist's, maste...     Bulgaria, Sofia   \n",
       "5  Higher Degree (bachelor's, specialist's, maste...       Spain, Madrid   \n",
       "6  Higher Degree (bachelor's, specialist's, maste...  Lithuania, Vilnius   \n",
       "\n",
       "                       applicant_id  Industry Score Applied on day  \\\n",
       "0  99e7b0dc6cc05dd334d8f38dc26ce9b3               0      Wednesday   \n",
       "2  10dbafaeb46c09e96b6987c03bbb3498              10      Wednesday   \n",
       "4  5d21f3795b50de8e8f8f8d5f48b754f3              15      Wednesday   \n",
       "5  f720bf9c5c4c3e10a8568c1699847696              15      Wednesday   \n",
       "6  0aaf59fb3ef90f50ccd4800312e5c271               5      Wednesday   \n",
       "\n",
       "   Final Score  \n",
       "0           30  \n",
       "2           20  \n",
       "4           25  \n",
       "5           45  \n",
       "6           15  "
      ]
     },
     "execution_count": 36,
     "metadata": {},
     "output_type": "execute_result"
    }
   ],
   "source": [
    "#3: Calculează evaluarea cererii conform următoarelor condiții:\n",
    "# Evaluarea trebuie să fie un număr între 0 și 100;\n",
    "# Evaluarea este suma scorurilor pentru cele 6 criterii;\n",
    "# Evaluarea este zero dacă nu există valoarea Amount sau dacă External Rating este zero.\n",
    "# Din ce constă evaluarea:\n",
    "\n",
    "# Dacă vârsta aplicantului este între 35 și 55 de ani, se adaugă 20 de puncte la evaluare.\n",
    "# Dacă aplicația a fost depusă în weekend, se adaugă 20 de puncte la evaluare.\n",
    "# Dacă aplicantul este căsătorit, se adaugă 20 de puncte la evaluare.\n",
    "# Dacă aplicantul este localizat în Kyiv sau în regiune, se adaugă 10 puncte la evaluare.\n",
    "# Valoarea Score din tabelul industries.csv este de asemenea adăugată la cerere (și variază între 0 și 20 de puncte).\n",
    "# Dacă External Rating este mai mare sau egal cu 7, se adaugă 20 de puncte la evaluare.\n",
    "# Dacă External Rating este mai mic sau egal cu 2, se scad 20 de puncte din evaluare.\n",
    "\n",
    "df['Age'] = df['Age'].astype(int)\n",
    "\n",
    "df['Applied at'] = pd.to_datetime(df['Applied at'], format='mixed')\n",
    "df['Applied on day'] = df['Applied at'].dt.day_name()\n",
    "#df\n",
    "\n",
    "age = ((df['Age'] >= 35 ) & (df['Age'] <= 55 )) * 20\n",
    "day = ~df['Applied on day'].isin(['Saturday' , 'Sunday']) * 10\n",
    "marital = (df['Marital status'] == 'Married') * 20\n",
    "location = (df['Location'] == 'Kyiv or region') * 10\n",
    "industry = df['Industry Score']\n",
    "positive_rating = (df['External Rating'] >= 7) * 20\n",
    "negaitive_rating = (df['External Rating'] <= 2) * -20\n",
    "df['Final Score'] = age + day + marital + location + industry + positive_rating + negaitive_rating\n",
    "df['Final Score'] = df['Final Score'] * ~(df['External Rating'] == 0) * ~df['Amount'].isna()\n",
    "df.head()\n"
   ]
  },
  {
   "cell_type": "code",
   "execution_count": 30,
   "metadata": {},
   "outputs": [
    {
     "name": "stdout",
     "output_type": "stream",
     "text": [
      "           Applied at   Amount  Age  Gender              Industry  \\\n",
      "0 2022-11-30 10:26:37  12000.0   29    Male            Blockchain   \n",
      "2 2022-11-30 10:26:58   7500.0   34    Male  Adtech / Advertising   \n",
      "4 2022-11-30 10:27:34   8400.0   33  Female            Automotive   \n",
      "5 2022-11-30 10:27:38  16500.0   31    Male            E-commerce   \n",
      "6 2022-11-30 10:27:42   4200.0   30    Male                 Media   \n",
      "\n",
      "  Marital status  External Rating  \\\n",
      "0          Other              8.0   \n",
      "2         Single              4.0   \n",
      "4         Single              6.0   \n",
      "5         Single              8.0   \n",
      "6        Married              1.0   \n",
      "\n",
      "                                     Education level            Location  \\\n",
      "0  Higher Degree (bachelor's, specialist's, maste...       Spain, Madrid   \n",
      "2  Higher Degree (bachelor's, specialist's, maste...      Poland, Warsaw   \n",
      "4  Higher Degree (bachelor's, specialist's, maste...     Bulgaria, Sofia   \n",
      "5  Higher Degree (bachelor's, specialist's, maste...       Spain, Madrid   \n",
      "6  Higher Degree (bachelor's, specialist's, maste...  Lithuania, Vilnius   \n",
      "\n",
      "                       applicant_id  Industry Score Applied on day  \\\n",
      "0  99e7b0dc6cc05dd334d8f38dc26ce9b3               0      Wednesday   \n",
      "2  10dbafaeb46c09e96b6987c03bbb3498              10      Wednesday   \n",
      "4  5d21f3795b50de8e8f8f8d5f48b754f3              15      Wednesday   \n",
      "5  f720bf9c5c4c3e10a8568c1699847696              15      Wednesday   \n",
      "6  0aaf59fb3ef90f50ccd4800312e5c271               5      Wednesday   \n",
      "\n",
      "   Final Score  \n",
      "0           30  \n",
      "2           20  \n",
      "4           25  \n",
      "5           45  \n",
      "6           15  \n"
     ]
    }
   ],
   "source": [
    "\n",
    "#4:În tabelul rezultat, lasă doar cererile cu o evaluare mai mare decât zero, aceste cereri vor fi considerate acceptate.\n",
    "df = df[df['Final Score'] > 0]\n",
    "print(df.head())\n",
    "\n"
   ]
  },
  {
   "cell_type": "code",
   "execution_count": 35,
   "metadata": {},
   "outputs": [
    {
     "name": "stdout",
     "output_type": "stream",
     "text": [
      "            Amount  Age  External Rating  Industry Score  Final Score\n",
      "Applied at                                                           \n",
      "2022-11-27   10316   30                5              13           40\n",
      "2022-12-04    9357   29                5              13           38\n",
      "2022-12-11    9227   29                5              13           38\n",
      "2022-12-18    8718   29                5              13           38\n",
      "2022-12-25    8762   29                5              13           39\n"
     ]
    },
    {
     "name": "stderr",
     "output_type": "stream",
     "text": [
      "/var/folders/w1/td06v9y93gdb0c71vymxq9nh0000gn/T/ipykernel_4484/1383911985.py:3: FutureWarning: 'w' is deprecated and will be removed in a future version, please use 'W' instead.\n",
      "  dfg = dfg.resample('w', label='left').mean(numeric_only=True).astype(int)\n"
     ]
    }
   ],
   "source": [
    "#5: Grupează datele din tabelul rezultat în funcție de săptămâna depunerii cererii și afișează evaluarea medie a cererilor acceptate în fiecare săptămână pe grafic.\n",
    "dfg = df.set_index('Applied at')\n",
    "dfg = dfg.resample('w', label='left').mean(numeric_only=True).astype(int)\n",
    "print(dfg.head())"
   ]
  },
  {
   "cell_type": "code",
   "execution_count": null,
   "metadata": {},
   "outputs": [
    {
     "name": "stdout",
     "output_type": "stream",
     "text": [
      "Axes(0.125,0.11;0.775x0.77)\n"
     ]
    },
    {
     "data": {
      "image/png": "[encoded data removed]",
      "text/plain": [
       "<Figure size 640x480 with 1 Axes>"
      ]
     },
     "metadata": {},
     "output_type": "display_data"
    }
   ],
   "source": [
    "# grafic al evaluării medii a cererilor acceptate pentru fiecare săptămâna\n",
    "sns.set_theme()\n",
    "print(sns.lineplot(data=dfg, x = 'Applied at', y= 'Final Score'))\n"
   ]
  }
 ],
 "metadata": {
  "kernelspec": {
   "display_name": "PYTHON_DATA_PROJECT",
   "language": "python",
   "name": "python3"
  },
  "language_info": {
   "codemirror_mode": {
    "name": "ipython",
    "version": 3
   },
   "file_extension": ".py",
   "mimetype": "text/x-python",
   "name": "python",
   "nbconvert_exporter": "python",
   "pygments_lexer": "ipython3",
   "version": "3.12.7"
  }
 },
 "nbformat": 4,
 "nbformat_minor": 2
}
